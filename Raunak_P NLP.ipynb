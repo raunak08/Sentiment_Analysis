{
 "cells": [
  {
   "cell_type": "code",
   "execution_count": 1,
   "metadata": {},
   "outputs": [],
   "source": [
    "import pyprind\n",
    "import os\n",
    "import numpy as np\n",
    "import pandas as pd\n",
    "import nltk\n",
    "import re\n",
    "import string"
   ]
  },
  {
   "cell_type": "code",
   "execution_count": 2,
   "metadata": {},
   "outputs": [],
   "source": [
    "# ls"
   ]
  },
  {
   "cell_type": "code",
   "execution_count": 3,
   "metadata": {},
   "outputs": [],
   "source": [
    "# basepath = 'C:/Users/rpatil/Desktop/rpatil/Raunak/Documents/Python Scripts/DS 2 Mid Term 1\\Data'\n",
    "# labels = {'pos': 1, 'neg': 0}\n",
    "# pbar = pyprind.ProgBar(50000)\n",
    "# df = pd.DataFrame()\n",
    "# for s in ('test', 'train'):\n",
    "#     for l in ('pos', 'neg'):\n",
    "#         path = os.path.join(basepath, s, l)\n",
    "#         for file in os.listdir(path):\n",
    "#             with open(os.path.join(path, file), 'r', encoding='utf-8') as infile:\n",
    "#                 txt = infile.read()\n",
    "#             df = df.append([[txt, labels[l]]], ignore_index=True)\n",
    "#             pbar.update()\n",
    "# df.columns = ['review', 'sentiment']"
   ]
  },
  {
   "cell_type": "code",
   "execution_count": 4,
   "metadata": {},
   "outputs": [
    {
     "name": "stdout",
     "output_type": "stream",
     "text": [
      "                                              review  sentiment\n",
      "0  In 1974, the teenager Martha Moxley (Maggie Gr...          1\n",
      "1  OK... so... I really like Kris Kristofferson a...          0\n",
      "2  ***SPOILER*** Do not read this, if you think a...          0\n",
      "3  hi for all the people who have seen this wonde...          1\n",
      "4  I recently bought the DVD, forgetting just how...          0\n",
      "(50000, 2)\n"
     ]
    }
   ],
   "source": [
    "data=pd.read_csv('movie_data.csv')\n",
    "print(data.head())\n",
    "print(data.shape)"
   ]
  },
  {
   "cell_type": "code",
   "execution_count": 5,
   "metadata": {},
   "outputs": [
    {
     "data": {
      "text/plain": [
       "25000"
      ]
     },
     "execution_count": 5,
     "metadata": {},
     "output_type": "execute_result"
    }
   ],
   "source": [
    "total = data['sentiment'].sum()\n",
    "total"
   ]
  },
  {
   "cell_type": "code",
   "execution_count": 6,
   "metadata": {},
   "outputs": [],
   "source": [
    "#2 Cleaning the Text\n",
    "\n",
    "#2.1 Removing Punctuation\n",
    "#2.2 Removing Stop words\n",
    "#2.3 Stemming"
   ]
  },
  {
   "cell_type": "code",
   "execution_count": 7,
   "metadata": {},
   "outputs": [],
   "source": [
    "punc_set = string.punctuation\n",
    "stopwords = nltk.corpus.stopwords.words('english')\n",
    "ps = nltk.PorterStemmer()\n",
    "\n",
    "def clean_text(text):\n",
    "    text=\"\".join([x.lower() for x in text if x not in punc_set])\n",
    "    tokens=re.split(\"\\W+\",text)\n",
    "    text = [ps.stem(word) for word in tokens if word not in stopwords]\n",
    "    return text\n",
    "\n",
    "data['clean_text']= data['review'].apply(lambda z:clean_text(z))"
   ]
  },
  {
   "cell_type": "code",
   "execution_count": 8,
   "metadata": {},
   "outputs": [
    {
     "data": {
      "text/plain": [
       "['1974',\n",
       " 'teenag',\n",
       " 'martha',\n",
       " 'moxley',\n",
       " 'maggi',\n",
       " 'grace',\n",
       " 'move',\n",
       " 'highclass',\n",
       " 'area',\n",
       " 'bell',\n",
       " 'greenwich',\n",
       " 'connecticut',\n",
       " 'mischief',\n",
       " 'night',\n",
       " 'eve',\n",
       " 'halloween',\n",
       " 'murder',\n",
       " 'backyard',\n",
       " 'hous',\n",
       " 'murder',\n",
       " 'remain',\n",
       " 'unsolv',\n",
       " 'twentytwo',\n",
       " 'year',\n",
       " 'later',\n",
       " 'writer',\n",
       " 'mark',\n",
       " 'fuhrman',\n",
       " 'christoph',\n",
       " 'meloni',\n",
       " 'former',\n",
       " 'la',\n",
       " 'detect',\n",
       " 'fallen',\n",
       " 'disgrac',\n",
       " 'perjuri',\n",
       " 'oj',\n",
       " 'simpson',\n",
       " 'trial',\n",
       " 'move',\n",
       " 'idaho',\n",
       " 'decid',\n",
       " 'investig',\n",
       " 'case',\n",
       " 'partner',\n",
       " 'stephen',\n",
       " 'week',\n",
       " 'andrew',\n",
       " 'mitchel',\n",
       " 'purpos',\n",
       " 'write',\n",
       " 'book',\n",
       " 'local',\n",
       " 'squirm',\n",
       " 'welcom',\n",
       " 'support',\n",
       " 'retir',\n",
       " 'detect',\n",
       " 'steve',\n",
       " 'carrol',\n",
       " 'robert',\n",
       " 'forster',\n",
       " 'charg',\n",
       " 'investig',\n",
       " '70',\n",
       " 'discov',\n",
       " 'crimin',\n",
       " 'net',\n",
       " 'power',\n",
       " 'money',\n",
       " 'cover',\n",
       " 'murderbr',\n",
       " 'br',\n",
       " 'murder',\n",
       " 'greenwich',\n",
       " 'good',\n",
       " 'tv',\n",
       " 'movi',\n",
       " 'true',\n",
       " 'stori',\n",
       " 'murder',\n",
       " 'fifteen',\n",
       " 'year',\n",
       " 'old',\n",
       " 'girl',\n",
       " 'commit',\n",
       " 'wealthi',\n",
       " 'teenag',\n",
       " 'whose',\n",
       " 'mother',\n",
       " 'kennedi',\n",
       " 'power',\n",
       " 'rich',\n",
       " 'famili',\n",
       " 'use',\n",
       " 'influenc',\n",
       " 'cover',\n",
       " 'murder',\n",
       " 'twenti',\n",
       " 'year',\n",
       " 'howev',\n",
       " 'snoopi',\n",
       " 'detect',\n",
       " 'convict',\n",
       " 'perjur',\n",
       " 'disgrac',\n",
       " 'abl',\n",
       " 'disclos',\n",
       " 'hideou',\n",
       " 'crime',\n",
       " 'commit',\n",
       " 'screenplay',\n",
       " 'show',\n",
       " 'investig',\n",
       " 'mark',\n",
       " 'last',\n",
       " 'day',\n",
       " 'martha',\n",
       " 'parallel',\n",
       " 'lack',\n",
       " 'emot',\n",
       " 'dramat',\n",
       " 'vote',\n",
       " 'sevenbr',\n",
       " 'br',\n",
       " 'titl',\n",
       " 'brazil',\n",
       " 'avail']"
      ]
     },
     "execution_count": 8,
     "metadata": {},
     "output_type": "execute_result"
    }
   ],
   "source": [
    "data['clean_text'][0]"
   ]
  },
  {
   "cell_type": "code",
   "execution_count": 9,
   "metadata": {},
   "outputs": [],
   "source": [
    "#PART 3 Creating 3 types of word conversion to matrices\n",
    "#3.1 N-grams\n",
    "#3.2 TF-IDF\n",
    "#We will apply all types to all 3 models to see best accuracy."
   ]
  },
  {
   "cell_type": "code",
   "execution_count": 10,
   "metadata": {},
   "outputs": [
    {
     "name": "stdout",
     "output_type": "stream",
     "text": [
      "(50000, 49577)\n"
     ]
    },
    {
     "name": "stderr",
     "output_type": "stream",
     "text": [
      "IOPub data rate exceeded.\n",
      "The notebook server will temporarily stop sending output\n",
      "to the client in order to avoid crashing it.\n",
      "To change this limit, set the config variable\n",
      "`--NotebookApp.iopub_data_rate_limit`.\n",
      "\n",
      "Current values:\n",
      "NotebookApp.iopub_data_rate_limit=1000000.0 (bytes/sec)\n",
      "NotebookApp.rate_limit_window=3.0 (secs)\n",
      "\n"
     ]
    }
   ],
   "source": [
    "from sklearn.feature_extraction.text import TfidfVectorizer\n",
    "\n",
    "tfidf_vect = TfidfVectorizer(analyzer = clean_text)\n",
    "x_tfidf = tfidf_vect.fit_transform(data[\"clean_text\"])\n",
    "\n",
    "print (x_tfidf.shape)\n",
    "print (tfidf_vect.get_feature_names())"
   ]
  },
  {
   "cell_type": "code",
   "execution_count": 11,
   "metadata": {},
   "outputs": [
    {
     "data": {
      "text/plain": [
       "array([0.5053, 0.4957, 0.5031, 0.5017, 0.505 ])"
      ]
     },
     "execution_count": 11,
     "metadata": {},
     "output_type": "execute_result"
    }
   ],
   "source": [
    "from sklearn.ensemble import RandomForestClassifier\n",
    "from sklearn.model_selection import KFold, cross_val_score\n",
    "\n",
    "\n",
    "rf = RandomForestClassifier(n_jobs=-1)\n",
    "k_fold = KFold(n_splits=5)\n",
    "\n",
    "cross_val_score (rf , x_tfidf, data[\"sentiment\"], cv = k_fold, scoring='accuracy',n_jobs=-1)"
   ]
  },
  {
   "cell_type": "code",
   "execution_count": 12,
   "metadata": {},
   "outputs": [],
   "source": [
    "from sklearn.model_selection import train_test_split\n",
    "from sklearn.metrics import precision_recall_fscore_support as score\n",
    "\n",
    "\n",
    "x_train, x_test, y_train, y_test = train_test_split(x_tfidf,data[\"sentiment\"],test_size=0.5)"
   ]
  },
  {
   "cell_type": "code",
   "execution_count": 13,
   "metadata": {},
   "outputs": [],
   "source": [
    "rf = RandomForestClassifier(n_estimators=50,max_depth=20)\n",
    "rf_model = rf.fit(x_train,y_train)"
   ]
  },
  {
   "cell_type": "code",
   "execution_count": 14,
   "metadata": {},
   "outputs": [],
   "source": [
    "y_pred = rf_model.predict(x_test)\n",
    "\n",
    "precision, recall, fscore, support= score(y_test,y_pred,pos_label=0,average=\"binary\")"
   ]
  },
  {
   "cell_type": "code",
   "execution_count": 15,
   "metadata": {},
   "outputs": [
    {
     "name": "stdout",
     "output_type": "stream",
     "text": [
      "precision:1.0, recall:0.0008725311334972634, accuracy:0.49616\n"
     ]
    }
   ],
   "source": [
    "print(\"precision:{}, recall:{}, accuracy:{}\".format(precision,recall,(y_pred==y_test).sum()/len(y_pred)))"
   ]
  },
  {
   "cell_type": "code",
   "execution_count": 16,
   "metadata": {},
   "outputs": [
    {
     "data": {
      "text/plain": [
       "0.495938212813638"
      ]
     },
     "execution_count": 16,
     "metadata": {},
     "output_type": "execute_result"
    }
   ],
   "source": [
    "from sklearn.metrics import average_precision_score\n",
    "average_precision = average_precision_score(y_test, y_pred)\n",
    "average_precision"
   ]
  },
  {
   "cell_type": "code",
   "execution_count": 28,
   "metadata": {},
   "outputs": [],
   "source": [
    "X_train = data.loc[:25000, 'review'].values\n",
    "y_train = data.loc[:25000, 'sentiment'].values\n",
    "X_test = data.loc[25000:, 'review'].values\n",
    "y_test = data.loc[25000:, 'sentiment'].values"
   ]
  },
  {
   "cell_type": "code",
   "execution_count": 25,
   "metadata": {},
   "outputs": [],
   "source": [
    "# from sklearn.feature_extraction.text import CountVectorizer\n",
    "\n",
    "# cv = CountVectorizer(analyzer=clean_text)\n",
    "# x_count = cv.fit_transform(data['clean_text'])"
   ]
  },
  {
   "cell_type": "code",
   "execution_count": null,
   "metadata": {},
   "outputs": [],
   "source": [
    "\n"
   ]
  },
  {
   "cell_type": "code",
   "execution_count": 29,
   "metadata": {},
   "outputs": [
    {
     "ename": "IndentationError",
     "evalue": "unexpected indent (<ipython-input-29-abecf239a7e0>, line 9)",
     "output_type": "error",
     "traceback": [
      "\u001b[1;36m  File \u001b[1;32m\"<ipython-input-29-abecf239a7e0>\"\u001b[1;36m, line \u001b[1;32m9\u001b[0m\n\u001b[1;33m    log.fit(X_train, y_train)\u001b[0m\n\u001b[1;37m    ^\u001b[0m\n\u001b[1;31mIndentationError\u001b[0m\u001b[1;31m:\u001b[0m unexpected indent\n"
     ]
    }
   ],
   "source": [
    "log_cv = KFold(n_splits=10,random_state=seed,shuffle=True)\n",
    "log_avg = 0\n",
    "i=1\n",
    "print(0)\n",
    "\n",
    "from sklearn.linear_model import LogisticRegression\n",
    "\n",
    "log = LogisticRegression(C=10 ,  penalty = 'l2' ,random_state=0, solver='lbfgs', multi_class='multinomial')\n",
    "log.fit(X_train, y_train)\n",
    "log_prediction = log.predict(x_valid)\n",
    "log_r2 = log.score(x_test,y_test)\n",
    "log_avg = log_avg + log_r2\n",
    "print('Accuracy score for Log-Regression = ',log_r2)\n",
    "i+=1\n",
    "print('Average Accuracy score for Logistic Regression = ',log_avg/10)"
   ]
  },
  {
   "cell_type": "code",
   "execution_count": null,
   "metadata": {},
   "outputs": [],
   "source": []
  }
 ],
 "metadata": {
  "kernelspec": {
   "display_name": "Python 3",
   "language": "python",
   "name": "python3"
  },
  "language_info": {
   "codemirror_mode": {
    "name": "ipython",
    "version": 3
   },
   "file_extension": ".py",
   "mimetype": "text/x-python",
   "name": "python",
   "nbconvert_exporter": "python",
   "pygments_lexer": "ipython3",
   "version": "3.7.1"
  }
 },
 "nbformat": 4,
 "nbformat_minor": 2
}
