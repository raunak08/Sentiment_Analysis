{
 "cells": [
  {
   "cell_type": "code",
   "execution_count": 1,
   "metadata": {},
   "outputs": [],
   "source": [
    "import pandas as pd\n",
    "import numpy as np\n",
    "import nltk\n",
    "import re\n",
    "import string \n",
    "from sklearn.naive_bayes import MultinomialNB, BernoulliNB\n",
    "import seaborn as sns\n",
    "from sklearn.feature_extraction.text import CountVectorizer, TfidfVectorizer\n",
    "from sklearn.metrics import accuracy_score, confusion_matrix, precision_recall_fscore_support as score, f1_score\n",
    "from sklearn.ensemble import RandomForestClassifier\n",
    "from sklearn.model_selection import train_test_split, KFold, cross_val_score\n",
    "from sklearn.svm import SVC\n",
    "from sklearn.linear_model import LogisticRegression\n",
    "from sklearn.ensemble import GradientBoostingClassifier\n",
    "from sklearn.model_selection import GridSearchCV"
   ]
  },
  {
   "cell_type": "markdown",
   "metadata": {},
   "source": [
    "# IMPORTING DATA"
   ]
  },
  {
   "cell_type": "code",
   "execution_count": 2,
   "metadata": {},
   "outputs": [
    {
     "name": "stdout",
     "output_type": "stream",
     "text": [
      "                                              review  sentiment\n",
      "0  In 1974, the teenager Martha Moxley (Maggie Gr...          1\n",
      "1  OK... so... I really like Kris Kristofferson a...          0\n",
      "2  ***SPOILER*** Do not read this, if you think a...          0\n",
      "3  hi for all the people who have seen this wonde...          1\n",
      "4  I recently bought the DVD, forgetting just how...          0\n",
      "(50000, 2)\n"
     ]
    }
   ],
   "source": [
    "data=pd.read_csv('movie_data.csv')\n",
    "print(data.head())\n",
    "print(data.shape)"
   ]
  },
  {
   "cell_type": "markdown",
   "metadata": {},
   "source": [
    "# CLEANING"
   ]
  },
  {
   "cell_type": "code",
   "execution_count": 3,
   "metadata": {},
   "outputs": [
    {
     "data": {
      "text/html": [
       "<div>\n",
       "<style scoped>\n",
       "    .dataframe tbody tr th:only-of-type {\n",
       "        vertical-align: middle;\n",
       "    }\n",
       "\n",
       "    .dataframe tbody tr th {\n",
       "        vertical-align: top;\n",
       "    }\n",
       "\n",
       "    .dataframe thead th {\n",
       "        text-align: right;\n",
       "    }\n",
       "</style>\n",
       "<table border=\"1\" class=\"dataframe\">\n",
       "  <thead>\n",
       "    <tr style=\"text-align: right;\">\n",
       "      <th></th>\n",
       "      <th>review</th>\n",
       "      <th>sentiment</th>\n",
       "      <th>no_punc</th>\n",
       "      <th>tokenized_Data</th>\n",
       "      <th>no_stop</th>\n",
       "      <th>lemmatized</th>\n",
       "    </tr>\n",
       "  </thead>\n",
       "  <tbody>\n",
       "    <tr>\n",
       "      <th>0</th>\n",
       "      <td>In 1974, the teenager Martha Moxley (Maggie Gr...</td>\n",
       "      <td>1</td>\n",
       "      <td>in 1974 the teenager martha moxley maggie grac...</td>\n",
       "      <td>[in, 1974, the, teenager, martha, moxley, magg...</td>\n",
       "      <td>[1974, teenager, martha, moxley, maggie, grace...</td>\n",
       "      <td>1974 teenager martha moxley maggie grace move ...</td>\n",
       "    </tr>\n",
       "    <tr>\n",
       "      <th>1</th>\n",
       "      <td>OK... so... I really like Kris Kristofferson a...</td>\n",
       "      <td>0</td>\n",
       "      <td>ok so i really like kris kristofferson and his...</td>\n",
       "      <td>[ok, so, i, really, like, kris, kristofferson,...</td>\n",
       "      <td>[ok, really, like, kris, kristofferson, usual,...</td>\n",
       "      <td>ok really like kris kristofferson usual easy g...</td>\n",
       "    </tr>\n",
       "    <tr>\n",
       "      <th>2</th>\n",
       "      <td>***SPOILER*** Do not read this, if you think a...</td>\n",
       "      <td>0</td>\n",
       "      <td>spoiler do not read this if you think about wa...</td>\n",
       "      <td>[spoiler, do, not, read, this, if, you, think,...</td>\n",
       "      <td>[spoiler, read, think, watching, movie, althou...</td>\n",
       "      <td>spoiler read think watching movie although wou...</td>\n",
       "    </tr>\n",
       "    <tr>\n",
       "      <th>3</th>\n",
       "      <td>hi for all the people who have seen this wonde...</td>\n",
       "      <td>1</td>\n",
       "      <td>hi for all the people who have seen this wonde...</td>\n",
       "      <td>[hi, for, all, the, people, who, have, seen, t...</td>\n",
       "      <td>[hi, people, seen, wonderful, movie, im, sure,...</td>\n",
       "      <td>hi people seen wonderful movie im sure thet wo...</td>\n",
       "    </tr>\n",
       "    <tr>\n",
       "      <th>4</th>\n",
       "      <td>I recently bought the DVD, forgetting just how...</td>\n",
       "      <td>0</td>\n",
       "      <td>i recently bought the dvd forgetting just how ...</td>\n",
       "      <td>[i, recently, bought, the, dvd, forgetting, ju...</td>\n",
       "      <td>[recently, bought, dvd, forgetting, much, hate...</td>\n",
       "      <td>recently bought dvd forgetting much hated movi...</td>\n",
       "    </tr>\n",
       "  </tbody>\n",
       "</table>\n",
       "</div>"
      ],
      "text/plain": [
       "                                              review  sentiment  \\\n",
       "0  In 1974, the teenager Martha Moxley (Maggie Gr...          1   \n",
       "1  OK... so... I really like Kris Kristofferson a...          0   \n",
       "2  ***SPOILER*** Do not read this, if you think a...          0   \n",
       "3  hi for all the people who have seen this wonde...          1   \n",
       "4  I recently bought the DVD, forgetting just how...          0   \n",
       "\n",
       "                                             no_punc  \\\n",
       "0  in 1974 the teenager martha moxley maggie grac...   \n",
       "1  ok so i really like kris kristofferson and his...   \n",
       "2  spoiler do not read this if you think about wa...   \n",
       "3  hi for all the people who have seen this wonde...   \n",
       "4  i recently bought the dvd forgetting just how ...   \n",
       "\n",
       "                                      tokenized_Data  \\\n",
       "0  [in, 1974, the, teenager, martha, moxley, magg...   \n",
       "1  [ok, so, i, really, like, kris, kristofferson,...   \n",
       "2  [spoiler, do, not, read, this, if, you, think,...   \n",
       "3  [hi, for, all, the, people, who, have, seen, t...   \n",
       "4  [i, recently, bought, the, dvd, forgetting, ju...   \n",
       "\n",
       "                                             no_stop  \\\n",
       "0  [1974, teenager, martha, moxley, maggie, grace...   \n",
       "1  [ok, really, like, kris, kristofferson, usual,...   \n",
       "2  [spoiler, read, think, watching, movie, althou...   \n",
       "3  [hi, people, seen, wonderful, movie, im, sure,...   \n",
       "4  [recently, bought, dvd, forgetting, much, hate...   \n",
       "\n",
       "                                          lemmatized  \n",
       "0  1974 teenager martha moxley maggie grace move ...  \n",
       "1  ok really like kris kristofferson usual easy g...  \n",
       "2  spoiler read think watching movie although wou...  \n",
       "3  hi people seen wonderful movie im sure thet wo...  \n",
       "4  recently bought dvd forgetting much hated movi...  "
      ]
     },
     "execution_count": 3,
     "metadata": {},
     "output_type": "execute_result"
    }
   ],
   "source": [
    "#Removing punctuations from entire dataset\n",
    "punc_set = string.punctuation\n",
    "punc_set\n",
    "\n",
    "#Function for removing punctions\n",
    "def remove_punc(text):\n",
    "    clean = \"\".join([x.lower() for x in text if x not in punc_set])\n",
    "    return clean\n",
    "\n",
    "#Applying the 'remove_punc' function to entire dataset\n",
    "data['no_punc'] = data['review'].apply(lambda z:remove_punc(z))\n",
    "\n",
    "#Function for Tokenizing entire data for representing every word as datapoint\n",
    "def tokenize(text):\n",
    "    tokens = re.split(\"\\W+\",text)\n",
    "    return tokens\n",
    "\n",
    "#Applying the 'tokenize' function to entire dataset\n",
    "data['tokenized_Data'] = data['no_punc'].apply(lambda z:tokenize(z))\n",
    "\n",
    "#Importing stopwords from NLTK Library to remove stopwords now that we have tokenized it\n",
    "stopwords = nltk.corpus.stopwords.words('english')\n",
    "\n",
    "#Function for removing stopwords from single row\n",
    "def remove_stopwords(tokenized_words):\n",
    "    Ligit_text=[word for word in tokenized_words if word not in stopwords]\n",
    "    return Ligit_text\n",
    "\n",
    "#Applying the function 'remove_stopwords' from the entire dataset\n",
    "data[\"no_stop\"] = data[\"tokenized_Data\"].apply(lambda z:remove_stopwords(z))\n",
    "\n",
    "#Importing 'WordNetLemmatizer' as lemmatizing function to find lemma's of words\n",
    "wnl = nltk.wordnet.WordNetLemmatizer()\n",
    "\n",
    "#Function for lemmatizing the tokenzied text\n",
    "def lemmatizing(tokenized_text):\n",
    "    lemma = [wnl.lemmatize(word) for word in tokenized_text]\n",
    "    return lemma\n",
    "\n",
    "#Applying the 'lemmatizing' function to entire dataset     \n",
    "data['lemmatized'] = data['no_stop'].apply(lambda z:lemmatizing(z))\n",
    "\n",
    "# #Importing the 'SnowballStemmer' and declaring variable 'sno' to save the stemmer in.\n",
    "# #This Stemmer gives slightly better results as compared to 'PorterStemmer'\n",
    "# sno = nltk.SnowballStemmer('english')\n",
    "\n",
    "# #Function for applying stemming to find stem roots of all words\n",
    "# def stemming(tokenized_text):\n",
    "#     text= [sno.stem(word) for word in tokenized_text]\n",
    "#     return text\n",
    "\n",
    "# #Applying the 'stemming' function to entire dataset\n",
    "# data['ss_stemmed'] = data['lemmatized'].apply(lambda z:stemming(z))\n",
    "\n",
    "\n",
    "# ps = nltk.PorterStemmer()\n",
    "\n",
    "# def stemming(tokenized_text):\n",
    "#     text= [ps.stem(word) for word in tokenized_text]\n",
    "#     return text\n",
    "\n",
    "# data['ps_stemmed'] = data['lemmatized'].apply(lambda z:stemming(z))\n",
    "\n",
    "#This step is done here because, the 'lemmatized' column is a list of tokenized words and when we apply vectorization\n",
    "#techniques such as count vectorizer or TFIDF, they require string input. Hence convert all tokenzied words to string\n",
    "data['lemmatized'] = [\" \".join(review) for review in data['lemmatized'].values]\n",
    "\n",
    "data.head()"
   ]
  },
  {
   "cell_type": "code",
   "execution_count": 4,
   "metadata": {},
   "outputs": [
    {
     "name": "stdout",
     "output_type": "stream",
     "text": [
      "(25000,)\n",
      "(25000,)\n",
      "(25000,)\n",
      "(25000,)\n"
     ]
    }
   ],
   "source": [
    "#Splitting data into smaller dataframes for the purpose of Training and Testing\n",
    "x1 = data.iloc[:25000,5]\n",
    "x2 = data.iloc[25000:50000,5]\n",
    "y1 = data.iloc[:25000,1]\n",
    "y2 = data.iloc[25000:50000,1]\n",
    "print(x1.shape)\n",
    "print(x2.shape)\n",
    "print(y1.shape)\n",
    "print(y2.shape)"
   ]
  },
  {
   "cell_type": "code",
   "execution_count": 5,
   "metadata": {},
   "outputs": [
    {
     "name": "stdout",
     "output_type": "stream",
     "text": [
      "(25000, 113901)\n",
      "(25000, 113901)\n"
     ]
    }
   ],
   "source": [
    "count_vect = CountVectorizer()\n",
    "c_train = count_vect.fit_transform(x1.values)\n",
    "c_test = count_vect.transform(x2.values)\n",
    "print(c_train.shape)\n",
    "print(c_test.shape)"
   ]
  },
  {
   "cell_type": "code",
   "execution_count": 6,
   "metadata": {},
   "outputs": [
    {
     "name": "stdout",
     "output_type": "stream",
     "text": [
      "(25000, 1849725)\n",
      "(25000, 1849725)\n"
     ]
    }
   ],
   "source": [
    "#Declaring and applying TFIDF functions to train and test data\n",
    "tfidf_vect = TfidfVectorizer(ngram_range=(1,2))\n",
    "tfidf_train = tfidf_vect.fit_transform(x1.values)\n",
    "tfidf_test=tfidf_vect.transform(x2.values)\n",
    "print(tfidf_train.shape)\n",
    "print(tfidf_test.shape)"
   ]
  },
  {
   "cell_type": "markdown",
   "metadata": {},
   "source": [
    "# MODEL 1: Naive Bayes"
   ]
  },
  {
   "cell_type": "markdown",
   "metadata": {},
   "source": [
    "BERNOULLI NAIVE BAYES"
   ]
  },
  {
   "cell_type": "markdown",
   "metadata": {},
   "source": [
    "Alpha = 0 "
   ]
  },
  {
   "cell_type": "code",
   "execution_count": 7,
   "metadata": {},
   "outputs": [
    {
     "name": "stderr",
     "output_type": "stream",
     "text": [
      "C:\\Users\\rpatil\\AppData\\Local\\Continuum\\anaconda3\\lib\\site-packages\\sklearn\\naive_bayes.py:480: UserWarning: alpha too small will result in numeric errors, setting alpha = 1.0e-10\n",
      "  'setting alpha = %.1e' % _ALPHA_MIN)\n"
     ]
    },
    {
     "name": "stdout",
     "output_type": "stream",
     "text": [
      "Test_accuracy 77.088\n",
      "Train_accuracy 97.732\n",
      "precision:[0.7685017  0.77332037], reccall:[0.77672228 0.76501243], accuracy:0.77088, fscore[0.77259012 0.76914396]\n"
     ]
    },
    {
     "data": {
      "image/png": "[encoded data removed]",
      "text/plain": [
       "<Figure size 432x288 with 2 Axes>"
      ]
     },
     "metadata": {
      "needs_background": "light"
     },
     "output_type": "display_data"
    }
   ],
   "source": [
    "clf = BernoulliNB(alpha=0)\n",
    "clf.fit(c_train,y1)\n",
    "\n",
    "y_pred_test = clf.predict(c_test)\n",
    "\n",
    "test_acc = accuracy_score(y2, clf.predict(c_test), normalize=True)*float(100)\n",
    "print('Test_accuracy',(test_acc))\n",
    "\n",
    "train_acc = accuracy_score(y1,clf.predict(c_train),normalize=True)*float(100)\n",
    "print('Train_accuracy',(train_acc))\n",
    "\n",
    "sns.heatmap(confusion_matrix(y2,y_pred_test),annot=True,fmt='d')\n",
    "\n",
    "precision, recall, fscore, support= score(y2,y_pred_test)\n",
    "\n",
    "print(\"precision:{}, reccall:{}, accuracy:{}, fscore{}\".format(precision,recall,(y_pred_test==y2).sum()/len(y_pred_test),fscore))"
   ]
  },
  {
   "cell_type": "markdown",
   "metadata": {},
   "source": [
    "Alpha = 0.7 (Also the best)"
   ]
  },
  {
   "cell_type": "code",
   "execution_count": 8,
   "metadata": {},
   "outputs": [
    {
     "name": "stdout",
     "output_type": "stream",
     "text": [
      "Test_accuracy 85.488\n",
      "Train_accuracy 93.0\n",
      "precision:[0.8348258  0.87763641], reccall:[0.88560709 0.82401988], accuracy:0.85488, fscore[0.859467   0.84998346]\n"
     ]
    },
    {
     "data": {
      "image/png": "[encoded data removed]",
      "text/plain": [
       "<Figure size 432x288 with 2 Axes>"
      ]
     },
     "metadata": {
      "needs_background": "light"
     },
     "output_type": "display_data"
    }
   ],
   "source": [
    "clf = BernoulliNB(alpha=0.7)\n",
    "clf.fit(c_train,y1)\n",
    "\n",
    "y_pred_test = clf.predict(c_test)\n",
    "\n",
    "test_acc = accuracy_score(y2, clf.predict(c_test), normalize=True)*float(100)\n",
    "print('Test_accuracy',(test_acc))\n",
    "\n",
    "train_acc = accuracy_score(y1,clf.predict(c_train),normalize=True)*float(100)\n",
    "print('Train_accuracy',(train_acc))\n",
    "\n",
    "sns.heatmap(confusion_matrix(y2,y_pred_test),annot=True,fmt='d')\n",
    "\n",
    "precision, recall, fscore, support= score(y2,y_pred_test)\n",
    "\n",
    "print(\"precision:{}, reccall:{}, accuracy:{}, fscore{}\".format(precision,recall,(y_pred_test==y2).sum()/len(y_pred_test),fscore))"
   ]
  },
  {
   "cell_type": "markdown",
   "metadata": {},
   "source": [
    "Alpha = 5"
   ]
  },
  {
   "cell_type": "code",
   "execution_count": 9,
   "metadata": {},
   "outputs": [
    {
     "name": "stdout",
     "output_type": "stream",
     "text": [
      "Test_accuracy 85.264\n",
      "Train_accuracy 89.336\n",
      "precision:[0.82696147 0.88289623], reccall:[0.89271174 0.81239477], accuracy:0.85264, fscore[0.85857965 0.84617954]\n"
     ]
    },
    {
     "data": {
      "image/png": "[encoded data removed]",
      "text/plain": [
       "<Figure size 432x288 with 2 Axes>"
      ]
     },
     "metadata": {
      "needs_background": "light"
     },
     "output_type": "display_data"
    }
   ],
   "source": [
    "clf = BernoulliNB(alpha=5)\n",
    "clf.fit(c_train,y1)\n",
    "\n",
    "y_pred_test = clf.predict(c_test)\n",
    "\n",
    "test_acc = accuracy_score(y2, clf.predict(c_test), normalize=True)*float(100)\n",
    "print('Test_accuracy',(test_acc))\n",
    "\n",
    "train_acc = accuracy_score(y1,clf.predict(c_train),normalize=True)*float(100)\n",
    "print('Train_accuracy',(train_acc))\n",
    "\n",
    "sns.heatmap(confusion_matrix(y2,y_pred_test),annot=True,fmt='d')\n",
    "\n",
    "precision, recall, fscore, support= score(y2,y_pred_test)\n",
    "\n",
    "print(\"precision:{}, reccall:{}, accuracy:{}, fscore{}\".format(precision,recall,(y_pred_test==y2).sum()/len(y_pred_test),fscore))"
   ]
  },
  {
   "cell_type": "markdown",
   "metadata": {},
   "source": [
    "MULTINOMIAL NAIVE BAYES"
   ]
  },
  {
   "cell_type": "markdown",
   "metadata": {},
   "source": [
    "Alpha = 0"
   ]
  },
  {
   "cell_type": "code",
   "execution_count": 10,
   "metadata": {},
   "outputs": [
    {
     "name": "stderr",
     "output_type": "stream",
     "text": [
      "C:\\Users\\rpatil\\AppData\\Local\\Continuum\\anaconda3\\lib\\site-packages\\sklearn\\naive_bayes.py:480: UserWarning: alpha too small will result in numeric errors, setting alpha = 1.0e-10\n",
      "  'setting alpha = %.1e' % _ALPHA_MIN)\n"
     ]
    },
    {
     "name": "stdout",
     "output_type": "stream",
     "text": [
      "Test_accuracy 77.82\n",
      "Train_accuracy 97.74000000000001\n",
      "precision:[0.77715148 0.77926475], reccall:[0.78143211 0.7749539 ], accuracy:0.7782, fscore[0.77928591 0.77710335]\n"
     ]
    },
    {
     "data": {
      "image/png": "[encoded data removed]",
      "text/plain": [
       "<Figure size 432x288 with 2 Axes>"
      ]
     },
     "metadata": {
      "needs_background": "light"
     },
     "output_type": "display_data"
    }
   ],
   "source": [
    "clf = MultinomialNB(alpha=0)\n",
    "clf.fit(c_train,y1)\n",
    "\n",
    "y_pred_test = clf.predict(c_test)\n",
    "\n",
    "test_acc = accuracy_score(y2, clf.predict(c_test), normalize=True)*float(100)\n",
    "print('Test_accuracy',(test_acc))\n",
    "\n",
    "train_acc = accuracy_score(y1,clf.predict(c_train),normalize=True)*float(100)\n",
    "print('Train_accuracy',(train_acc))\n",
    "\n",
    "sns.heatmap(confusion_matrix(y2,y_pred_test),annot=True,fmt='d')\n",
    "\n",
    "precision, recall, fscore, support= score(y2,y_pred_test)\n",
    "\n",
    "print(\"precision:{}, reccall:{}, accuracy:{}, fscore{}\".format(precision,recall,(y_pred_test==y2).sum()/len(y_pred_test),fscore))"
   ]
  },
  {
   "cell_type": "markdown",
   "metadata": {},
   "source": [
    "Alpha = 1.6 (Also the best)"
   ]
  },
  {
   "cell_type": "code",
   "execution_count": 11,
   "metadata": {},
   "outputs": [
    {
     "name": "stdout",
     "output_type": "stream",
     "text": [
      "Test_accuracy 85.63199999999999\n",
      "Train_accuracy 91.432\n",
      "precision:[0.84022542 0.87412587], reccall:[0.88073761 0.83179668], accuracy:0.85632, fscore[0.86000468 0.85243612]\n"
     ]
    },
    {
     "data": {
      "text/plain": [
       "<matplotlib.axes._subplots.AxesSubplot at 0x5d84ad68>"
      ]
     },
     "execution_count": 11,
     "metadata": {},
     "output_type": "execute_result"
    },
    {
     "data": {
      "image/png": "[encoded data removed]",
      "text/plain": [
       "<Figure size 432x288 with 2 Axes>"
      ]
     },
     "metadata": {
      "needs_background": "light"
     },
     "output_type": "display_data"
    }
   ],
   "source": [
    "nb_clf = MultinomialNB(alpha=1.6)\n",
    "nb_clf.fit(c_train,y1)\n",
    "\n",
    "y_pred_test = nb_clf.predict(c_test)\n",
    "\n",
    "test_acc = accuracy_score(y2, nb_clf.predict(c_test), normalize=True)*float(100)\n",
    "print('Test_accuracy',(test_acc))\n",
    "train_acc = accuracy_score(y1,nb_clf.predict(c_train),normalize=True)*float(100)\n",
    "print('Train_accuracy',(train_acc))\n",
    "\n",
    "precision, recall, fscore, support= score(y2,y_pred_test)\n",
    "print(\"precision:{}, reccall:{}, accuracy:{}, fscore{}\".format(precision,recall,(y_pred_test==y2).sum()/len(y_pred_test),fscore))\n",
    "\n",
    "sns.heatmap(confusion_matrix(y2,y_pred_test),annot=True,fmt='d')"
   ]
  },
  {
   "cell_type": "markdown",
   "metadata": {},
   "source": [
    "Alpha = 2"
   ]
  },
  {
   "cell_type": "code",
   "execution_count": 12,
   "metadata": {},
   "outputs": [
    {
     "name": "stdout",
     "output_type": "stream",
     "text": [
      "Test_accuracy 85.6\n",
      "Train_accuracy 91.08000000000001\n",
      "precision:[0.83971383 0.87404097], reccall:[0.88073761 0.8311553 ], accuracy:0.856, fscore[0.85973662 0.85205885]\n"
     ]
    },
    {
     "data": {
      "image/png": "[encoded data removed]",
      "text/plain": [
       "<Figure size 432x288 with 2 Axes>"
      ]
     },
     "metadata": {
      "needs_background": "light"
     },
     "output_type": "display_data"
    }
   ],
   "source": [
    "clf = MultinomialNB(alpha=2)\n",
    "clf.fit(c_train,y1)\n",
    "\n",
    "y_pred_test = clf.predict(c_test)\n",
    "\n",
    "test_acc = accuracy_score(y2, clf.predict(c_test), normalize=True)*float(100)\n",
    "print('Test_accuracy',(test_acc))\n",
    "\n",
    "train_acc = accuracy_score(y1,clf.predict(c_train),normalize=True)*float(100)\n",
    "print('Train_accuracy',(train_acc))\n",
    "\n",
    "sns.heatmap(confusion_matrix(y2,y_pred_test),annot=True,fmt='d')\n",
    "\n",
    "precision, recall, fscore, support= score(y2,y_pred_test)\n",
    "\n",
    "print(\"precision:{}, reccall:{}, accuracy:{}, fscore{}\".format(precision,recall,(y_pred_test==y2).sum()/len(y_pred_test),fscore))"
   ]
  },
  {
   "cell_type": "markdown",
   "metadata": {},
   "source": [
    "BERNOULLI + TF-IDF"
   ]
  },
  {
   "cell_type": "code",
   "execution_count": 13,
   "metadata": {},
   "outputs": [
    {
     "name": "stdout",
     "output_type": "stream",
     "text": [
      "TfIdf Test Accuracy =  87.832\n",
      "TfIdf Train Accuracy =  98.532\n",
      "precision:[0.83971383 0.87404097], reccall:[0.88073761 0.8311553 ], accuracy:0.856, fscore[0.85973662 0.85205885]\n"
     ]
    },
    {
     "data": {
      "image/png": "[encoded data removed]",
      "text/plain": [
       "<Figure size 432x288 with 2 Axes>"
      ]
     },
     "metadata": {
      "needs_background": "light"
     },
     "output_type": "display_data"
    }
   ],
   "source": [
    "#Applying Function MULTINOMIAL NAIVE BAYES and checking accuracy scores and F-Scores\n",
    "nb_clf = BernoulliNB(alpha=5)\n",
    "nb_clf.fit(tfidf_train,y1)\n",
    "\n",
    "y_pred_tfidf_test = nb_clf.predict(tfidf_test)\n",
    "\n",
    "tfidf_test_acc = accuracy_score(y2,nb_clf.predict(tfidf_test),normalize=True)*float(100)\n",
    "print('TfIdf Test Accuracy = ',(tfidf_test_acc))\n",
    "\n",
    "tfidf_train_acc = accuracy_score(y1,nb_clf.predict(tfidf_train),normalize=True)*float(100)\n",
    "print('TfIdf Train Accuracy = ',(tfidf_train_acc))\n",
    "\n",
    "sns.heatmap(confusion_matrix(y2,y_pred_tfidf_test),annot=True,fmt='d')\n",
    "\n",
    "precision, recall, fscore, support= score(y2,y_pred_test)\n",
    "\n",
    "print(\"precision:{}, reccall:{}, accuracy:{}, fscore{}\".format(precision,recall,(y_pred_test==y2).sum()/len(y_pred_test),fscore))"
   ]
  },
  {
   "cell_type": "markdown",
   "metadata": {},
   "source": [
    " MULTINOMIAL + TF-IDF"
   ]
  },
  {
   "cell_type": "markdown",
   "metadata": {},
   "source": [
    "Alpha = 2 (Also the best)"
   ]
  },
  {
   "cell_type": "code",
   "execution_count": 14,
   "metadata": {},
   "outputs": [
    {
     "name": "stdout",
     "output_type": "stream",
     "text": [
      "TfIdf Test Accuracy =  87.988\n",
      "TfIdf Train Accuracy =  97.528\n",
      "precision:[0.83971383 0.87404097], reccall:[0.88073761 0.8311553 ], accuracy:0.856, fscore[0.85973662 0.85205885]\n"
     ]
    },
    {
     "data": {
      "image/png": "[encoded data removed]",
      "text/plain": [
       "<Figure size 432x288 with 2 Axes>"
      ]
     },
     "metadata": {
      "needs_background": "light"
     },
     "output_type": "display_data"
    }
   ],
   "source": [
    "#Applying Function MULTINOMIAL NAIVE BAYES and checking accuracy scores and F-Scores\n",
    "nb_clf = MultinomialNB(alpha=2)\n",
    "nb_clf.fit(tfidf_train,y1)\n",
    "\n",
    "y_pred_tfidf_test = nb_clf.predict(tfidf_test)\n",
    "\n",
    "tfidf_test_acc = accuracy_score(y2,nb_clf.predict(tfidf_test),normalize=True)*float(100)\n",
    "print('TfIdf Test Accuracy = ',(tfidf_test_acc))\n",
    "\n",
    "tfidf_train_acc = accuracy_score(y1,nb_clf.predict(tfidf_train),normalize=True)*float(100)\n",
    "print('TfIdf Train Accuracy = ',(tfidf_train_acc))\n",
    "\n",
    "sns.heatmap(confusion_matrix(y2,y_pred_tfidf_test),annot=True,fmt='d')\n",
    "\n",
    "precision, recall, fscore, support= score(y2,y_pred_test)\n",
    "\n",
    "print(\"precision:{}, reccall:{}, accuracy:{}, fscore{}\".format(precision,recall,(y_pred_test==y2).sum()/len(y_pred_test),fscore))"
   ]
  },
  {
   "cell_type": "markdown",
   "metadata": {},
   "source": [
    "Alpha = 0.3"
   ]
  },
  {
   "cell_type": "code",
   "execution_count": 15,
   "metadata": {},
   "outputs": [
    {
     "name": "stdout",
     "output_type": "stream",
     "text": [
      "TfIdf Test Accuracy =  88.228\n",
      "TfIdf Train Accuracy =  99.996\n",
      "precision:[0.83971383 0.87404097], reccall:[0.88073761 0.8311553 ], accuracy:0.856, fscore[0.85973662 0.85205885]\n"
     ]
    },
    {
     "data": {
      "image/png": "[encoded data removed]",
      "text/plain": [
       "<Figure size 432x288 with 2 Axes>"
      ]
     },
     "metadata": {
      "needs_background": "light"
     },
     "output_type": "display_data"
    }
   ],
   "source": [
    "#Applying Function MULTINOMIAL NAIVE BAYES and checking accuracy scores and F-Scores\n",
    "clf = MultinomialNB(alpha=0.03)\n",
    "clf.fit(tfidf_train,y1)\n",
    "\n",
    "y_pred_tfidf_test = clf.predict(tfidf_test)\n",
    "\n",
    "tfidf_test_acc = accuracy_score(y2,clf.predict(tfidf_test),normalize=True)*float(100)\n",
    "print('TfIdf Test Accuracy = ',(tfidf_test_acc))\n",
    "\n",
    "tfidf_train_acc = accuracy_score(y1,clf.predict(tfidf_train),normalize=True)*float(100)\n",
    "print('TfIdf Train Accuracy = ',(tfidf_train_acc))\n",
    "\n",
    "sns.heatmap(confusion_matrix(y2,y_pred_tfidf_test),annot=True,fmt='d')\n",
    "\n",
    "precision, recall, fscore, support= score(y2,y_pred_test)\n",
    "\n",
    "print(\"precision:{}, reccall:{}, accuracy:{}, fscore{}\".format(precision,recall,(y_pred_test==y2).sum()/len(y_pred_test),fscore))"
   ]
  },
  {
   "cell_type": "markdown",
   "metadata": {},
   "source": [
    "# MODEL 2: LOGISTIC REGRESSION"
   ]
  },
  {
   "cell_type": "code",
   "execution_count": 16,
   "metadata": {},
   "outputs": [
    {
     "name": "stdout",
     "output_type": "stream",
     "text": [
      "F1 score 89.00296150049358\n"
     ]
    }
   ],
   "source": [
    "tfidf_vect = TfidfVectorizer()\n",
    "x_tfidf = tfidf_vect.fit_transform(data[\"lemmatized\"])\n",
    "\n",
    "x_train, x_test, y_train, y_test = train_test_split(x_tfidf,data[\"sentiment\"],test_size=0.5)\n",
    "\n",
    "log = LogisticRegression(penalty='l2',random_state=0, solver='lbfgs', multi_class='auto', max_iter=500)\n",
    "log.fit(x_train,y_train)\n",
    "y_prediction = log.predict(x_test)\n",
    "f1 = f1_score(y_prediction,y_test)\n",
    "print('F1 score',f1*100)"
   ]
  },
  {
   "cell_type": "code",
   "execution_count": 17,
   "metadata": {},
   "outputs": [
    {
     "name": "stdout",
     "output_type": "stream",
     "text": [
      "F1 score 88.31343934647262\n"
     ]
    }
   ],
   "source": [
    "count_vect1 = CountVectorizer()\n",
    "x_cvect1 = count_vect1.fit_transform(data[\"lemmatized\"])\n",
    "\n",
    "cx_train, cx_test, cy_train, cy_test = train_test_split(x_cvect1,data[\"sentiment\"],test_size=0.5)\n",
    "\n",
    "log = LogisticRegression(penalty='l2',random_state=0, solver='lbfgs', multi_class='auto', max_iter=500)\n",
    "log.fit(cx_train,cy_train)\n",
    "cy_prediction = log.predict(cx_test)\n",
    "f1 = f1_score(cy_prediction,cy_test)\n",
    "print('F1 score',f1*100)"
   ]
  },
  {
   "cell_type": "markdown",
   "metadata": {},
   "source": [
    "# MODEL 3: SVM CLASSIFIER"
   ]
  },
  {
   "cell_type": "markdown",
   "metadata": {},
   "source": [
    "TF-IDF + SVM: LINEAR"
   ]
  },
  {
   "cell_type": "code",
   "execution_count": 18,
   "metadata": {},
   "outputs": [
    {
     "name": "stdout",
     "output_type": "stream",
     "text": [
      "(25000, 169078)\n",
      "(25000,)\n",
      "(25000,)\n",
      "(25000, 169078)\n",
      "[LibSVM]0.9686\n",
      "0.8946\n"
     ]
    }
   ],
   "source": [
    "tfidf_vect = TfidfVectorizer()\n",
    "x_tfidf = tfidf_vect.fit_transform(data[\"lemmatized\"])\n",
    "\n",
    "x_train, x_test, y_train, y_test = train_test_split(x_tfidf,data[\"sentiment\"],test_size=0.5)\n",
    "print(x_train.shape)\n",
    "print(y_train.shape)\n",
    "print(y_test.shape)\n",
    "print(x_test.shape)\n",
    "\n",
    "svm = SVC(kernel = 'linear',random_state=0, C = 1.0, verbose=True)\n",
    "svm.fit(x_train,y_train)\n",
    "\n",
    "print(svm.score(x_train,y_train))\n",
    "print(svm.score(x_test, y_test))"
   ]
  },
  {
   "cell_type": "markdown",
   "metadata": {},
   "source": [
    "BOG + SVM: LINEAR"
   ]
  },
  {
   "cell_type": "code",
   "execution_count": 19,
   "metadata": {},
   "outputs": [
    {
     "name": "stdout",
     "output_type": "stream",
     "text": [
      "(25000, 169078)\n",
      "(25000,)\n",
      "(25000,)\n",
      "(25000, 169078)\n",
      "[LibSVM]0.99996\n",
      "0.8634\n"
     ]
    }
   ],
   "source": [
    "count_vect1 = CountVectorizer()\n",
    "x_cvect1 = count_vect1.fit_transform(data[\"lemmatized\"])\n",
    "\n",
    "x_train, x_test, y_train, y_test = train_test_split(x_cvect1,data[\"sentiment\"],test_size=0.5)\n",
    "print(x_train.shape)\n",
    "print(y_train.shape)\n",
    "print(y_test.shape)\n",
    "print(x_test.shape)\n",
    "\n",
    "svm = SVC(kernel = 'linear',random_state=0, C = 1.0, verbose=True)\n",
    "svm.fit(x_train,y_train)\n",
    "\n",
    "print(svm.score(x_train,y_train))\n",
    "print(svm.score(x_test, y_test))"
   ]
  },
  {
   "cell_type": "markdown",
   "metadata": {},
   "source": [
    "TF-IDF + SVM: 'RBF'"
   ]
  },
  {
   "cell_type": "code",
   "execution_count": 20,
   "metadata": {},
   "outputs": [
    {
     "name": "stdout",
     "output_type": "stream",
     "text": [
      "(25000, 169078)\n",
      "(25000,)\n",
      "(25000,)\n",
      "(25000, 169078)\n",
      "[LibSVM]"
     ]
    },
    {
     "name": "stderr",
     "output_type": "stream",
     "text": [
      "C:\\Users\\rpatil\\AppData\\Local\\Continuum\\anaconda3\\lib\\site-packages\\sklearn\\svm\\base.py:196: FutureWarning: The default value of gamma will change from 'auto' to 'scale' in version 0.22 to account better for unscaled features. Set gamma explicitly to 'auto' or 'scale' to avoid this warning.\n",
      "  \"avoid this warning.\", FutureWarning)\n"
     ]
    },
    {
     "name": "stdout",
     "output_type": "stream",
     "text": [
      "0.5018\n",
      "0.4982\n"
     ]
    }
   ],
   "source": [
    "tfidf_vect = TfidfVectorizer()\n",
    "x_tfidf = tfidf_vect.fit_transform(data[\"lemmatized\"])\n",
    "\n",
    "x_train, x_test, y_train, y_test = train_test_split(x_tfidf,data[\"sentiment\"],test_size=0.5)\n",
    "print(x_train.shape)\n",
    "print(y_train.shape)\n",
    "print(y_test.shape)\n",
    "print(x_test.shape)\n",
    "\n",
    "svm = SVC(kernel = 'rbf',random_state=0, C = 1.0, verbose=True)\n",
    "svm.fit(x_train,y_train)\n",
    "\n",
    "print(svm.score(x_train,y_train))\n",
    "print(svm.score(x_test, y_test))"
   ]
  },
  {
   "cell_type": "markdown",
   "metadata": {},
   "source": [
    "BOG + SVM: 'RBF'"
   ]
  },
  {
   "cell_type": "code",
   "execution_count": 21,
   "metadata": {},
   "outputs": [
    {
     "name": "stdout",
     "output_type": "stream",
     "text": [
      "(25000, 169078)\n",
      "(25000,)\n",
      "(25000,)\n",
      "(25000, 169078)\n",
      "[LibSVM]0.545\n",
      "0.54352\n"
     ]
    }
   ],
   "source": [
    "count_vect1 = CountVectorizer()\n",
    "x_cvect1 = count_vect1.fit_transform(data[\"lemmatized\"])\n",
    "\n",
    "x_train, x_test, y_train, y_test = train_test_split(x_cvect1,data[\"sentiment\"],test_size=0.5)\n",
    "print(x_train.shape)\n",
    "print(y_train.shape)\n",
    "print(y_test.shape)\n",
    "print(x_test.shape)\n",
    "\n",
    "svm = SVC(kernel = 'rbf',random_state=0, C = 1.0, verbose=True)\n",
    "svm.fit(x_train,y_train)\n",
    "\n",
    "print(svm.score(x_train,y_train))\n",
    "print(svm.score(x_test, y_test))"
   ]
  },
  {
   "cell_type": "markdown",
   "metadata": {},
   "source": [
    "TF-IDF + SVM: 'Poly, Degree = 3'"
   ]
  },
  {
   "cell_type": "code",
   "execution_count": 22,
   "metadata": {},
   "outputs": [
    {
     "name": "stdout",
     "output_type": "stream",
     "text": [
      "(25000, 169078)\n",
      "(25000,)\n",
      "(25000,)\n",
      "(25000, 169078)\n",
      "[LibSVM]0.50012\n",
      "0.49988\n"
     ]
    }
   ],
   "source": [
    "tfidf_vect = TfidfVectorizer()\n",
    "x_tfidf = tfidf_vect.fit_transform(data[\"lemmatized\"])\n",
    "\n",
    "x_train, x_test, y_train, y_test = train_test_split(x_tfidf,data[\"sentiment\"],test_size=0.5)\n",
    "print(x_train.shape)\n",
    "print(y_train.shape)\n",
    "print(y_test.shape)\n",
    "print(x_test.shape)\n",
    "\n",
    "svm = SVC(kernel = 'poly',degree = 3,random_state=0, C = 1.0, verbose=True)\n",
    "svm.fit(x_train,y_train)\n",
    "\n",
    "print(svm.score(x_train,y_train))\n",
    "print(svm.score(x_test, y_test))"
   ]
  },
  {
   "cell_type": "markdown",
   "metadata": {},
   "source": [
    "BOG + SVM: 'Poly, Degree = 3'"
   ]
  },
  {
   "cell_type": "code",
   "execution_count": 23,
   "metadata": {},
   "outputs": [
    {
     "name": "stdout",
     "output_type": "stream",
     "text": [
      "(25000, 169078)\n",
      "(25000,)\n",
      "(25000,)\n",
      "(25000, 169078)\n",
      "[LibSVM]0.50164\n",
      "0.49836\n"
     ]
    }
   ],
   "source": [
    "count_vect1 = CountVectorizer()\n",
    "x_cvect1 = count_vect1.fit_transform(data[\"lemmatized\"])\n",
    "\n",
    "x_train, x_test, y_train, y_test = train_test_split(x_cvect1,data[\"sentiment\"],test_size=0.5)\n",
    "print(x_train.shape)\n",
    "print(y_train.shape)\n",
    "print(y_test.shape)\n",
    "print(x_test.shape)\n",
    "\n",
    "svm = SVC(kernel = 'poly',degree = 3,random_state=0, C = 1.0, verbose=True)\n",
    "svm.fit(x_train,y_train)\n",
    "\n",
    "print(svm.score(x_train,y_train))\n",
    "print(svm.score(x_test, y_test))"
   ]
  },
  {
   "cell_type": "markdown",
   "metadata": {},
   "source": [
    "TF-IDF + SVM: 'SIGMOID'"
   ]
  },
  {
   "cell_type": "code",
   "execution_count": 24,
   "metadata": {},
   "outputs": [
    {
     "name": "stdout",
     "output_type": "stream",
     "text": [
      "(25000, 169078)\n",
      "(25000,)\n",
      "(25000,)\n",
      "(25000, 169078)\n",
      "[LibSVM]0.50236\n",
      "0.49764\n"
     ]
    }
   ],
   "source": [
    "tfidf_vect = TfidfVectorizer()\n",
    "x_tfidf = tfidf_vect.fit_transform(data[\"lemmatized\"])\n",
    "\n",
    "x_train, x_test, y_train, y_test = train_test_split(x_tfidf,data[\"sentiment\"],test_size=0.5)\n",
    "print(x_train.shape)\n",
    "print(y_train.shape)\n",
    "print(y_test.shape)\n",
    "print(x_test.shape)\n",
    "\n",
    "svm = SVC(kernel = 'sigmoid',random_state=0, C = 1.0, verbose=True)\n",
    "svm.fit(x_train,y_train)\n",
    "\n",
    "print(svm.score(x_train,y_train))\n",
    "print(svm.score(x_test, y_test))"
   ]
  },
  {
   "cell_type": "markdown",
   "metadata": {},
   "source": [
    "BOG + SVM: 'SIGMOID'"
   ]
  },
  {
   "cell_type": "code",
   "execution_count": 25,
   "metadata": {},
   "outputs": [
    {
     "name": "stdout",
     "output_type": "stream",
     "text": [
      "(25000, 169078)\n",
      "(25000,)\n",
      "(25000,)\n",
      "(25000, 169078)\n",
      "[LibSVM]0.50376\n",
      "0.4996\n"
     ]
    }
   ],
   "source": [
    "count_vect1 = CountVectorizer()\n",
    "x_cvect1 = count_vect1.fit_transform(data[\"lemmatized\"])\n",
    "\n",
    "x_train, x_test, y_train, y_test = train_test_split(x_cvect1,data[\"sentiment\"],test_size=0.5)\n",
    "\n",
    "print(x_train.shape)\n",
    "print(y_train.shape)\n",
    "print(y_test.shape)\n",
    "print(x_test.shape)\n",
    "\n",
    "svm = SVC(kernel = 'sigmoid',random_state=0, C = 1.0, verbose=True)\n",
    "svm.fit(x_train,y_train)\n",
    "\n",
    "print(svm.score(x_train,y_train))\n",
    "print(svm.score(x_test, y_test))"
   ]
  },
  {
   "cell_type": "markdown",
   "metadata": {},
   "source": [
    "# MODEL #4: TF-IDF + RANDOM FOREST"
   ]
  },
  {
   "cell_type": "code",
   "execution_count": 26,
   "metadata": {},
   "outputs": [],
   "source": [
    "tfidf_vect = TfidfVectorizer()\n",
    "x_tfidf = tfidf_vect.fit_transform(data[\"lemmatized\"])\n",
    "\n",
    "# print (tfidf_vect.get_feature_names())"
   ]
  },
  {
   "cell_type": "code",
   "execution_count": 27,
   "metadata": {},
   "outputs": [
    {
     "name": "stdout",
     "output_type": "stream",
     "text": [
      "[0.7523 0.764  0.7621 0.7581 0.7596]\n",
      "(25000, 169078)\n",
      "(25000,)\n",
      "(25000,)\n",
      "(25000, 169078)\n",
      "precision:[0.84078947 0.785     ], recall:[0.7662483  0.85469538], accuracy:0.81044\n",
      "precision:[0.84078947 0.785     ], reccall:[0.7662483  0.85469538], accuracy:0.81044, fscore[0.80179012 0.81836649]\n"
     ]
    }
   ],
   "source": [
    "rf = RandomForestClassifier(n_jobs=-1)\n",
    "k_fold = KFold(n_splits=5)\n",
    "\n",
    "print(cross_val_score (rf , x_tfidf, data[\"sentiment\"], cv = k_fold, scoring='accuracy',n_jobs=-1))\n",
    "\n",
    "x_train, x_test, y_train, y_test = train_test_split(x_tfidf,data[\"sentiment\"],test_size=0.5)\n",
    "\n",
    "print(x_train.shape)\n",
    "print(y_train.shape)\n",
    "print(y_test.shape)\n",
    "print(x_test.shape)\n",
    "\n",
    "rf = RandomForestClassifier(n_estimators=50,max_depth=20)\n",
    "rf_model = rf.fit(x_train,y_train)\n",
    "\n",
    "y_pred = rf_model.predict(x_test)\n",
    "\n",
    "precision, recall, fscore, support= score(y_test,y_pred)\n",
    "\n",
    "print(\"precision:{}, recall:{}, accuracy:{}\".format(precision,recall,(y_pred==y_test).sum()/len(y_pred)))\n",
    "\n",
    "print(\"precision:{}, reccall:{}, accuracy:{}, fscore{}\".format(precision,recall,(y_pred==y_test).sum()/len(y_pred),fscore))"
   ]
  },
  {
   "cell_type": "code",
   "execution_count": 28,
   "metadata": {},
   "outputs": [
    {
     "ename": "KeyboardInterrupt",
     "evalue": "",
     "output_type": "error",
     "traceback": [
      "\u001b[1;31m---------------------------------------------------------------------------\u001b[0m",
      "\u001b[1;31mKeyboardInterrupt\u001b[0m                         Traceback (most recent call last)",
      "\u001b[1;32m<ipython-input-28-ef023349c380>\u001b[0m in \u001b[0;36m<module>\u001b[1;34m\u001b[0m\n\u001b[0;32m      4\u001b[0m \u001b[1;33m\u001b[0m\u001b[0m\n\u001b[0;32m      5\u001b[0m \u001b[0mgs\u001b[0m \u001b[1;33m=\u001b[0m \u001b[0mGridSearchCV\u001b[0m\u001b[1;33m(\u001b[0m\u001b[0mrf\u001b[0m \u001b[1;33m,\u001b[0m \u001b[0mparam\u001b[0m\u001b[1;33m,\u001b[0m \u001b[0mcv\u001b[0m \u001b[1;33m=\u001b[0m \u001b[1;36m5\u001b[0m \u001b[1;33m,\u001b[0m \u001b[0mn_jobs\u001b[0m\u001b[1;33m=\u001b[0m\u001b[1;33m-\u001b[0m\u001b[1;36m1\u001b[0m\u001b[1;33m)\u001b[0m\u001b[1;33m\u001b[0m\u001b[1;33m\u001b[0m\u001b[0m\n\u001b[1;32m----> 6\u001b[1;33m \u001b[0mgs_fit\u001b[0m \u001b[1;33m=\u001b[0m \u001b[0mgs\u001b[0m\u001b[1;33m.\u001b[0m\u001b[0mfit\u001b[0m\u001b[1;33m(\u001b[0m\u001b[0mx_tfidf\u001b[0m\u001b[1;33m,\u001b[0m\u001b[0mdata\u001b[0m\u001b[1;33m[\u001b[0m\u001b[1;34m'sentiment'\u001b[0m\u001b[1;33m]\u001b[0m\u001b[1;33m)\u001b[0m\u001b[1;33m\u001b[0m\u001b[1;33m\u001b[0m\u001b[0m\n\u001b[0m",
      "\u001b[1;32m~\\AppData\\Local\\Continuum\\anaconda3\\lib\\site-packages\\sklearn\\model_selection\\_search.py\u001b[0m in \u001b[0;36mfit\u001b[1;34m(self, X, y, groups, **fit_params)\u001b[0m\n\u001b[0;32m    720\u001b[0m                 \u001b[1;32mreturn\u001b[0m \u001b[0mresults_container\u001b[0m\u001b[1;33m[\u001b[0m\u001b[1;36m0\u001b[0m\u001b[1;33m]\u001b[0m\u001b[1;33m\u001b[0m\u001b[1;33m\u001b[0m\u001b[0m\n\u001b[0;32m    721\u001b[0m \u001b[1;33m\u001b[0m\u001b[0m\n\u001b[1;32m--> 722\u001b[1;33m             \u001b[0mself\u001b[0m\u001b[1;33m.\u001b[0m\u001b[0m_run_search\u001b[0m\u001b[1;33m(\u001b[0m\u001b[0mevaluate_candidates\u001b[0m\u001b[1;33m)\u001b[0m\u001b[1;33m\u001b[0m\u001b[1;33m\u001b[0m\u001b[0m\n\u001b[0m\u001b[0;32m    723\u001b[0m \u001b[1;33m\u001b[0m\u001b[0m\n\u001b[0;32m    724\u001b[0m         \u001b[0mresults\u001b[0m \u001b[1;33m=\u001b[0m \u001b[0mresults_container\u001b[0m\u001b[1;33m[\u001b[0m\u001b[1;36m0\u001b[0m\u001b[1;33m]\u001b[0m\u001b[1;33m\u001b[0m\u001b[1;33m\u001b[0m\u001b[0m\n",
      "\u001b[1;32m~\\AppData\\Local\\Continuum\\anaconda3\\lib\\site-packages\\sklearn\\model_selection\\_search.py\u001b[0m in \u001b[0;36m_run_search\u001b[1;34m(self, evaluate_candidates)\u001b[0m\n\u001b[0;32m   1189\u001b[0m     \u001b[1;32mdef\u001b[0m \u001b[0m_run_search\u001b[0m\u001b[1;33m(\u001b[0m\u001b[0mself\u001b[0m\u001b[1;33m,\u001b[0m \u001b[0mevaluate_candidates\u001b[0m\u001b[1;33m)\u001b[0m\u001b[1;33m:\u001b[0m\u001b[1;33m\u001b[0m\u001b[1;33m\u001b[0m\u001b[0m\n\u001b[0;32m   1190\u001b[0m         \u001b[1;34m\"\"\"Search all candidates in param_grid\"\"\"\u001b[0m\u001b[1;33m\u001b[0m\u001b[1;33m\u001b[0m\u001b[0m\n\u001b[1;32m-> 1191\u001b[1;33m         \u001b[0mevaluate_candidates\u001b[0m\u001b[1;33m(\u001b[0m\u001b[0mParameterGrid\u001b[0m\u001b[1;33m(\u001b[0m\u001b[0mself\u001b[0m\u001b[1;33m.\u001b[0m\u001b[0mparam_grid\u001b[0m\u001b[1;33m)\u001b[0m\u001b[1;33m)\u001b[0m\u001b[1;33m\u001b[0m\u001b[1;33m\u001b[0m\u001b[0m\n\u001b[0m\u001b[0;32m   1192\u001b[0m \u001b[1;33m\u001b[0m\u001b[0m\n\u001b[0;32m   1193\u001b[0m \u001b[1;33m\u001b[0m\u001b[0m\n",
      "\u001b[1;32m~\\AppData\\Local\\Continuum\\anaconda3\\lib\\site-packages\\sklearn\\model_selection\\_search.py\u001b[0m in \u001b[0;36mevaluate_candidates\u001b[1;34m(candidate_params)\u001b[0m\n\u001b[0;32m    709\u001b[0m                                \u001b[1;32mfor\u001b[0m \u001b[0mparameters\u001b[0m\u001b[1;33m,\u001b[0m \u001b[1;33m(\u001b[0m\u001b[0mtrain\u001b[0m\u001b[1;33m,\u001b[0m \u001b[0mtest\u001b[0m\u001b[1;33m)\u001b[0m\u001b[1;33m\u001b[0m\u001b[1;33m\u001b[0m\u001b[0m\n\u001b[0;32m    710\u001b[0m                                in product(candidate_params,\n\u001b[1;32m--> 711\u001b[1;33m                                           cv.split(X, y, groups)))\n\u001b[0m\u001b[0;32m    712\u001b[0m \u001b[1;33m\u001b[0m\u001b[0m\n\u001b[0;32m    713\u001b[0m                 \u001b[0mall_candidate_params\u001b[0m\u001b[1;33m.\u001b[0m\u001b[0mextend\u001b[0m\u001b[1;33m(\u001b[0m\u001b[0mcandidate_params\u001b[0m\u001b[1;33m)\u001b[0m\u001b[1;33m\u001b[0m\u001b[1;33m\u001b[0m\u001b[0m\n",
      "\u001b[1;32m~\\AppData\\Local\\Continuum\\anaconda3\\lib\\site-packages\\sklearn\\externals\\joblib\\parallel.py\u001b[0m in \u001b[0;36m__call__\u001b[1;34m(self, iterable)\u001b[0m\n\u001b[0;32m    928\u001b[0m \u001b[1;33m\u001b[0m\u001b[0m\n\u001b[0;32m    929\u001b[0m             \u001b[1;32mwith\u001b[0m \u001b[0mself\u001b[0m\u001b[1;33m.\u001b[0m\u001b[0m_backend\u001b[0m\u001b[1;33m.\u001b[0m\u001b[0mretrieval_context\u001b[0m\u001b[1;33m(\u001b[0m\u001b[1;33m)\u001b[0m\u001b[1;33m:\u001b[0m\u001b[1;33m\u001b[0m\u001b[1;33m\u001b[0m\u001b[0m\n\u001b[1;32m--> 930\u001b[1;33m                 \u001b[0mself\u001b[0m\u001b[1;33m.\u001b[0m\u001b[0mretrieve\u001b[0m\u001b[1;33m(\u001b[0m\u001b[1;33m)\u001b[0m\u001b[1;33m\u001b[0m\u001b[1;33m\u001b[0m\u001b[0m\n\u001b[0m\u001b[0;32m    931\u001b[0m             \u001b[1;31m# Make sure that we get a last message telling us we are done\u001b[0m\u001b[1;33m\u001b[0m\u001b[1;33m\u001b[0m\u001b[1;33m\u001b[0m\u001b[0m\n\u001b[0;32m    932\u001b[0m             \u001b[0melapsed_time\u001b[0m \u001b[1;33m=\u001b[0m \u001b[0mtime\u001b[0m\u001b[1;33m.\u001b[0m\u001b[0mtime\u001b[0m\u001b[1;33m(\u001b[0m\u001b[1;33m)\u001b[0m \u001b[1;33m-\u001b[0m \u001b[0mself\u001b[0m\u001b[1;33m.\u001b[0m\u001b[0m_start_time\u001b[0m\u001b[1;33m\u001b[0m\u001b[1;33m\u001b[0m\u001b[0m\n",
      "\u001b[1;32m~\\AppData\\Local\\Continuum\\anaconda3\\lib\\site-packages\\sklearn\\externals\\joblib\\parallel.py\u001b[0m in \u001b[0;36mretrieve\u001b[1;34m(self)\u001b[0m\n\u001b[0;32m    831\u001b[0m             \u001b[1;32mtry\u001b[0m\u001b[1;33m:\u001b[0m\u001b[1;33m\u001b[0m\u001b[1;33m\u001b[0m\u001b[0m\n\u001b[0;32m    832\u001b[0m                 \u001b[1;32mif\u001b[0m \u001b[0mgetattr\u001b[0m\u001b[1;33m(\u001b[0m\u001b[0mself\u001b[0m\u001b[1;33m.\u001b[0m\u001b[0m_backend\u001b[0m\u001b[1;33m,\u001b[0m \u001b[1;34m'supports_timeout'\u001b[0m\u001b[1;33m,\u001b[0m \u001b[1;32mFalse\u001b[0m\u001b[1;33m)\u001b[0m\u001b[1;33m:\u001b[0m\u001b[1;33m\u001b[0m\u001b[1;33m\u001b[0m\u001b[0m\n\u001b[1;32m--> 833\u001b[1;33m                     \u001b[0mself\u001b[0m\u001b[1;33m.\u001b[0m\u001b[0m_output\u001b[0m\u001b[1;33m.\u001b[0m\u001b[0mextend\u001b[0m\u001b[1;33m(\u001b[0m\u001b[0mjob\u001b[0m\u001b[1;33m.\u001b[0m\u001b[0mget\u001b[0m\u001b[1;33m(\u001b[0m\u001b[0mtimeout\u001b[0m\u001b[1;33m=\u001b[0m\u001b[0mself\u001b[0m\u001b[1;33m.\u001b[0m\u001b[0mtimeout\u001b[0m\u001b[1;33m)\u001b[0m\u001b[1;33m)\u001b[0m\u001b[1;33m\u001b[0m\u001b[1;33m\u001b[0m\u001b[0m\n\u001b[0m\u001b[0;32m    834\u001b[0m                 \u001b[1;32melse\u001b[0m\u001b[1;33m:\u001b[0m\u001b[1;33m\u001b[0m\u001b[1;33m\u001b[0m\u001b[0m\n\u001b[0;32m    835\u001b[0m                     \u001b[0mself\u001b[0m\u001b[1;33m.\u001b[0m\u001b[0m_output\u001b[0m\u001b[1;33m.\u001b[0m\u001b[0mextend\u001b[0m\u001b[1;33m(\u001b[0m\u001b[0mjob\u001b[0m\u001b[1;33m.\u001b[0m\u001b[0mget\u001b[0m\u001b[1;33m(\u001b[0m\u001b[1;33m)\u001b[0m\u001b[1;33m)\u001b[0m\u001b[1;33m\u001b[0m\u001b[1;33m\u001b[0m\u001b[0m\n",
      "\u001b[1;32m~\\AppData\\Local\\Continuum\\anaconda3\\lib\\site-packages\\sklearn\\externals\\joblib\\_parallel_backends.py\u001b[0m in \u001b[0;36mwrap_future_result\u001b[1;34m(future, timeout)\u001b[0m\n\u001b[0;32m    519\u001b[0m         AsyncResults.get from multiprocessing.\"\"\"\n\u001b[0;32m    520\u001b[0m         \u001b[1;32mtry\u001b[0m\u001b[1;33m:\u001b[0m\u001b[1;33m\u001b[0m\u001b[1;33m\u001b[0m\u001b[0m\n\u001b[1;32m--> 521\u001b[1;33m             \u001b[1;32mreturn\u001b[0m \u001b[0mfuture\u001b[0m\u001b[1;33m.\u001b[0m\u001b[0mresult\u001b[0m\u001b[1;33m(\u001b[0m\u001b[0mtimeout\u001b[0m\u001b[1;33m=\u001b[0m\u001b[0mtimeout\u001b[0m\u001b[1;33m)\u001b[0m\u001b[1;33m\u001b[0m\u001b[1;33m\u001b[0m\u001b[0m\n\u001b[0m\u001b[0;32m    522\u001b[0m         \u001b[1;32mexcept\u001b[0m \u001b[0mLokyTimeoutError\u001b[0m\u001b[1;33m:\u001b[0m\u001b[1;33m\u001b[0m\u001b[1;33m\u001b[0m\u001b[0m\n\u001b[0;32m    523\u001b[0m             \u001b[1;32mraise\u001b[0m \u001b[0mTimeoutError\u001b[0m\u001b[1;33m(\u001b[0m\u001b[1;33m)\u001b[0m\u001b[1;33m\u001b[0m\u001b[1;33m\u001b[0m\u001b[0m\n",
      "\u001b[1;32m~\\AppData\\Local\\Continuum\\anaconda3\\lib\\concurrent\\futures\\_base.py\u001b[0m in \u001b[0;36mresult\u001b[1;34m(self, timeout)\u001b[0m\n\u001b[0;32m    425\u001b[0m                 \u001b[1;32mreturn\u001b[0m \u001b[0mself\u001b[0m\u001b[1;33m.\u001b[0m\u001b[0m__get_result\u001b[0m\u001b[1;33m(\u001b[0m\u001b[1;33m)\u001b[0m\u001b[1;33m\u001b[0m\u001b[1;33m\u001b[0m\u001b[0m\n\u001b[0;32m    426\u001b[0m \u001b[1;33m\u001b[0m\u001b[0m\n\u001b[1;32m--> 427\u001b[1;33m             \u001b[0mself\u001b[0m\u001b[1;33m.\u001b[0m\u001b[0m_condition\u001b[0m\u001b[1;33m.\u001b[0m\u001b[0mwait\u001b[0m\u001b[1;33m(\u001b[0m\u001b[0mtimeout\u001b[0m\u001b[1;33m)\u001b[0m\u001b[1;33m\u001b[0m\u001b[1;33m\u001b[0m\u001b[0m\n\u001b[0m\u001b[0;32m    428\u001b[0m \u001b[1;33m\u001b[0m\u001b[0m\n\u001b[0;32m    429\u001b[0m             \u001b[1;32mif\u001b[0m \u001b[0mself\u001b[0m\u001b[1;33m.\u001b[0m\u001b[0m_state\u001b[0m \u001b[1;32min\u001b[0m \u001b[1;33m[\u001b[0m\u001b[0mCANCELLED\u001b[0m\u001b[1;33m,\u001b[0m \u001b[0mCANCELLED_AND_NOTIFIED\u001b[0m\u001b[1;33m]\u001b[0m\u001b[1;33m:\u001b[0m\u001b[1;33m\u001b[0m\u001b[1;33m\u001b[0m\u001b[0m\n",
      "\u001b[1;32m~\\AppData\\Local\\Continuum\\anaconda3\\lib\\threading.py\u001b[0m in \u001b[0;36mwait\u001b[1;34m(self, timeout)\u001b[0m\n\u001b[0;32m    294\u001b[0m         \u001b[1;32mtry\u001b[0m\u001b[1;33m:\u001b[0m    \u001b[1;31m# restore state no matter what (e.g., KeyboardInterrupt)\u001b[0m\u001b[1;33m\u001b[0m\u001b[1;33m\u001b[0m\u001b[0m\n\u001b[0;32m    295\u001b[0m             \u001b[1;32mif\u001b[0m \u001b[0mtimeout\u001b[0m \u001b[1;32mis\u001b[0m \u001b[1;32mNone\u001b[0m\u001b[1;33m:\u001b[0m\u001b[1;33m\u001b[0m\u001b[1;33m\u001b[0m\u001b[0m\n\u001b[1;32m--> 296\u001b[1;33m                 \u001b[0mwaiter\u001b[0m\u001b[1;33m.\u001b[0m\u001b[0macquire\u001b[0m\u001b[1;33m(\u001b[0m\u001b[1;33m)\u001b[0m\u001b[1;33m\u001b[0m\u001b[1;33m\u001b[0m\u001b[0m\n\u001b[0m\u001b[0;32m    297\u001b[0m                 \u001b[0mgotit\u001b[0m \u001b[1;33m=\u001b[0m \u001b[1;32mTrue\u001b[0m\u001b[1;33m\u001b[0m\u001b[1;33m\u001b[0m\u001b[0m\n\u001b[0;32m    298\u001b[0m             \u001b[1;32melse\u001b[0m\u001b[1;33m:\u001b[0m\u001b[1;33m\u001b[0m\u001b[1;33m\u001b[0m\u001b[0m\n",
      "\u001b[1;31mKeyboardInterrupt\u001b[0m: "
     ]
    }
   ],
   "source": [
    "param = {'n_estimators':[10,150,300], \n",
    "         'max_depth':[30,60,90,None]}\n",
    "\n",
    "\n",
    "gs = GridSearchCV(rf , param, cv = 5 , n_jobs=-1)\n",
    "gs_fit = gs.fit(x_tfidf,data['sentiment'])"
   ]
  },
  {
   "cell_type": "code",
   "execution_count": null,
   "metadata": {},
   "outputs": [],
   "source": [
    "# pd.DataFrame(gs_fit.cv_results_).sort_values(\"mean_test_score\",ascending=False)[0:5]"
   ]
  },
  {
   "cell_type": "markdown",
   "metadata": {},
   "source": [
    "COUNT VECTORIZER + RANDOM FOREST"
   ]
  },
  {
   "cell_type": "code",
   "execution_count": 29,
   "metadata": {},
   "outputs": [],
   "source": [
    "count_vect = CountVectorizer()\n",
    "x_count =  count_vect.fit_transform(data[\"lemmatized\"])\n",
    "\n",
    "# print(x_count.shape)\n",
    "# count_vect.get_feature_names()"
   ]
  },
  {
   "cell_type": "code",
   "execution_count": 30,
   "metadata": {},
   "outputs": [
    {
     "name": "stdout",
     "output_type": "stream",
     "text": [
      "[0.7555 0.7598 0.7612 0.7573 0.759 ]\n",
      "(25000, 169078)\n",
      "(25000,)\n",
      "(25000,)\n",
      "(25000, 169078)\n",
      "precision:[0.86281813 0.7929753 ], reccall:[0.77400366 0.87553303], accuracy:0.82448, fscore[0.81600134 0.83221169]\n"
     ]
    }
   ],
   "source": [
    "rf = RandomForestClassifier(n_jobs=-1)\n",
    "k_fold = KFold(n_splits=5)\n",
    "\n",
    "print(cross_val_score (rf , x_count, data[\"sentiment\"], cv = k_fold, scoring='accuracy',n_jobs=-1))\n",
    "\n",
    "x_train, x_test, y_train, y_test = train_test_split(x_count,data[\"sentiment\"],test_size=0.5)\n",
    "print(x_train.shape)\n",
    "print(y_train.shape)\n",
    "print(y_test.shape)\n",
    "print(x_test.shape)\n",
    "\n",
    "rf = RandomForestClassifier(n_estimators=50,max_depth=20)\n",
    "rf_model = rf.fit(x_train,y_train)\n",
    "\n",
    "y_pred = rf_model.predict(x_test)\n",
    "\n",
    "precision, recall, fscore, support= score(y_test,y_pred)\n",
    "\n",
    "print(\"precision:{}, reccall:{}, accuracy:{}, fscore{}\".format(precision,recall,(y_pred==y_test).sum()/len(y_pred),fscore))"
   ]
  },
  {
   "cell_type": "code",
   "execution_count": null,
   "metadata": {},
   "outputs": [],
   "source": [
    "# param = {'n_estimators':[10,150,300], \n",
    "#          'max_depth':[30,60,90,None]}\n",
    "\n",
    "\n",
    "# gs = GridSearchCV(rf , param, cv = 5 , n_jobs=-1)\n",
    "# gs_fit = gs.fit(x_count,data['sentiment'])"
   ]
  },
  {
   "cell_type": "code",
   "execution_count": null,
   "metadata": {},
   "outputs": [],
   "source": [
    "# pd.DataFrame(gs_fit.cv_results_).sort_values(\"mean_test_score\",ascending=False)[0:5]"
   ]
  },
  {
   "cell_type": "markdown",
   "metadata": {},
   "source": [
    "N-GRAMS + RANDOM FOREST"
   ]
  },
  {
   "cell_type": "code",
   "execution_count": 31,
   "metadata": {},
   "outputs": [],
   "source": [
    "ngram_vect = CountVectorizer(ngram_range=(1,1))\n",
    "x_count_ngram = ngram_vect.fit_transform(data[\"lemmatized\"])\n",
    "\n",
    "# print (x_count_ngram.shape)\n",
    "# print (ngram_vect.get_feature_names())"
   ]
  },
  {
   "cell_type": "code",
   "execution_count": 32,
   "metadata": {},
   "outputs": [
    {
     "name": "stdout",
     "output_type": "stream",
     "text": [
      "[0.7599 0.7594 0.7656 0.7627 0.7556]\n",
      "(25000, 169078)\n",
      "(25000,)\n",
      "(25000,)\n",
      "(25000, 169078)\n",
      "precision:[0.84078591 0.8038963 ], reccall:[0.79328805 0.8494193 ], accuracy:0.82132, fscore[0.81634667 0.82603108]\n"
     ]
    }
   ],
   "source": [
    "rf = RandomForestClassifier(n_jobs=-1)\n",
    "k_fold = KFold(n_splits=5)\n",
    "\n",
    "print(cross_val_score (rf , x_count_ngram, data[\"sentiment\"], cv = k_fold, scoring='accuracy',n_jobs=-1))\n",
    "\n",
    "x_train, x_test, y_train, y_test = train_test_split(x_count_ngram,data[\"sentiment\"],test_size=0.5)\n",
    "\n",
    "print(x_train.shape)\n",
    "print(y_train.shape)\n",
    "print(y_test.shape)\n",
    "print(x_test.shape)\n",
    "\n",
    "rf = RandomForestClassifier(n_estimators=50,max_depth=20)\n",
    "rf_model = rf.fit(x_train,y_train)\n",
    "\n",
    "y_pred = rf_model.predict(x_test)\n",
    "\n",
    "precision, recall, fscore, support= score(y_test,y_pred)\n",
    "\n",
    "print(\"precision:{}, reccall:{}, accuracy:{}, fscore{}\".format(precision,recall,(y_pred==y_test).sum()/len(y_pred),fscore))"
   ]
  },
  {
   "cell_type": "markdown",
   "metadata": {},
   "source": [
    "# MODEL 5: GRADIENT BOOST CLASSIFIER"
   ]
  },
  {
   "cell_type": "markdown",
   "metadata": {},
   "source": [
    "TF-IDF (BIGRAMS) + GBC"
   ]
  },
  {
   "cell_type": "code",
   "execution_count": 33,
   "metadata": {},
   "outputs": [
    {
     "data": {
      "text/plain": [
       "(25000, 1735824)"
      ]
     },
     "execution_count": 33,
     "metadata": {},
     "output_type": "execute_result"
    }
   ],
   "source": [
    "tfidf_vect = TfidfVectorizer(ngram_range=(2,2))\n",
    "tfidf_train = tfidf_vect.fit_transform(x1.values)\n",
    "tfidf_test=tfidf_vect.transform(x2.values)\n",
    "\n",
    "tfidf_train.shape\n",
    "tfidf_test.shape"
   ]
  },
  {
   "cell_type": "code",
   "execution_count": null,
   "metadata": {},
   "outputs": [
    {
     "name": "stdout",
     "output_type": "stream",
     "text": [
      "      Iter       Train Loss   Remaining Time \n",
      "         1           1.3417           64.57m\n",
      "         2           1.3114           59.70m\n",
      "         3           1.2930           57.53m\n",
      "         4           1.2785           56.20m\n",
      "         5           1.2643           56.25m\n",
      "         6           1.2527           55.81m\n",
      "         7           1.2425           55.61m\n",
      "         8           1.2331           55.72m\n",
      "         9           1.2257           56.47m\n",
      "        10           1.2183           58.03m\n",
      "        20           1.1580           60.17m\n",
      "        30           1.1129           59.37m\n",
      "        40           1.0746           59.38m\n",
      "        50           1.0448           58.49m\n",
      "        60           1.0183           57.80m\n",
      "        70           0.9935           56.54m\n",
      "        80           0.9718           55.31m\n",
      "        90           0.9518           54.14m\n",
      "       100           0.9329           53.10m\n",
      "       200           0.7963           46.12m\n",
      "       300           0.7082           40.43m\n",
      "       400           0.6398           34.68m\n"
     ]
    }
   ],
   "source": [
    "gbc = GradientBoostingClassifier(verbose = True, learning_rate=0.5,n_estimators=1000)\n",
    "gbc.fit(tfidf_train,y1)\n",
    "\n",
    "y_pred_test = gbc.predict(tfidf_test)\n",
    "\n",
    "test_acc = accuracy_score(y2, gbc.predict(tfidf_test), normalize=True)*float(100)\n",
    "print('Test_accuracy',(test_acc))\n",
    "\n",
    "train_acc = accuracy_score(y1,gbc.predict(tfidf_train),normalize=True)*float(100)\n",
    "print('Train_accuracy',(train_acc))\n",
    "\n",
    "sns.heatmap(confusion_matrix(y2,y_pred_test),annot=True,fmt='d')\n",
    "\n",
    "precision, recall, fscore, support= score(y2,y_pred_test)\n",
    "\n",
    "print(\"precision:{}, reccall:{}, accuracy:{}, fscore{}\".format(precision,recall,(y_pred_test==y2).sum()/len(y_pred_test),fscore))"
   ]
  },
  {
   "cell_type": "markdown",
   "metadata": {},
   "source": [
    "# MODEL 6: MAXIMUM ENTROPY MODEL"
   ]
  },
  {
   "cell_type": "code",
   "execution_count": 35,
   "metadata": {},
   "outputs": [
    {
     "ename": "ValueError",
     "evalue": "not enough values to unpack (expected 2, got 1)",
     "output_type": "error",
     "traceback": [
      "\u001b[1;31m---------------------------------------------------------------------------\u001b[0m",
      "\u001b[1;31mValueError\u001b[0m                                Traceback (most recent call last)",
      "\u001b[1;32m<ipython-input-35-3598bbb4954b>\u001b[0m in \u001b[0;36m<module>\u001b[1;34m\u001b[0m\n\u001b[0;32m      2\u001b[0m \u001b[1;33m\u001b[0m\u001b[0m\n\u001b[0;32m      3\u001b[0m \u001b[0malgo\u001b[0m \u001b[1;33m=\u001b[0m  \u001b[0mnltk\u001b[0m\u001b[1;33m.\u001b[0m\u001b[0mclassify\u001b[0m\u001b[1;33m.\u001b[0m\u001b[0mMaxentClassifier\u001b[0m\u001b[1;33m.\u001b[0m\u001b[0mALGORITHMS\u001b[0m\u001b[1;33m[\u001b[0m\u001b[1;36m0\u001b[0m\u001b[1;33m]\u001b[0m\u001b[1;33m\u001b[0m\u001b[1;33m\u001b[0m\u001b[0m\n\u001b[1;32m----> 4\u001b[1;33m \u001b[0mclassifier\u001b[0m \u001b[1;33m=\u001b[0m \u001b[0mnltk\u001b[0m\u001b[1;33m.\u001b[0m\u001b[0mMaxentClassifier\u001b[0m\u001b[1;33m.\u001b[0m\u001b[0mtrain\u001b[0m\u001b[1;33m(\u001b[0m\u001b[0mx_train\u001b[0m\u001b[1;33m,\u001b[0m\u001b[0malgo\u001b[0m\u001b[1;33m,\u001b[0m\u001b[0mmax_iter\u001b[0m\u001b[1;33m=\u001b[0m\u001b[0mnumIterations\u001b[0m\u001b[1;33m)\u001b[0m\u001b[1;33m\u001b[0m\u001b[1;33m\u001b[0m\u001b[0m\n\u001b[0m\u001b[0;32m      5\u001b[0m \u001b[0mclassifier\u001b[0m\u001b[1;33m.\u001b[0m\u001b[0mshow_most_informative_features\u001b[0m\u001b[1;33m(\u001b[0m\u001b[1;36m10\u001b[0m\u001b[1;33m)\u001b[0m\u001b[1;33m\u001b[0m\u001b[1;33m\u001b[0m\u001b[0m\n",
      "\u001b[1;32m~\\AppData\\Local\\Continuum\\anaconda3\\lib\\site-packages\\nltk\\classify\\maxent.py\u001b[0m in \u001b[0;36mtrain\u001b[1;34m(cls, train_toks, algorithm, trace, encoding, labels, gaussian_prior_sigma, **cutoffs)\u001b[0m\n\u001b[0;32m    335\u001b[0m         \u001b[1;32melif\u001b[0m \u001b[0malgorithm\u001b[0m \u001b[1;33m==\u001b[0m \u001b[1;34m'gis'\u001b[0m\u001b[1;33m:\u001b[0m\u001b[1;33m\u001b[0m\u001b[1;33m\u001b[0m\u001b[0m\n\u001b[0;32m    336\u001b[0m             return train_maxent_classifier_with_gis(\n\u001b[1;32m--> 337\u001b[1;33m                 \u001b[0mtrain_toks\u001b[0m\u001b[1;33m,\u001b[0m \u001b[0mtrace\u001b[0m\u001b[1;33m,\u001b[0m \u001b[0mencoding\u001b[0m\u001b[1;33m,\u001b[0m \u001b[0mlabels\u001b[0m\u001b[1;33m,\u001b[0m \u001b[1;33m**\u001b[0m\u001b[0mcutoffs\u001b[0m\u001b[1;33m\u001b[0m\u001b[1;33m\u001b[0m\u001b[0m\n\u001b[0m\u001b[0;32m    338\u001b[0m             )\n\u001b[0;32m    339\u001b[0m         \u001b[1;32melif\u001b[0m \u001b[0malgorithm\u001b[0m \u001b[1;33m==\u001b[0m \u001b[1;34m'megam'\u001b[0m\u001b[1;33m:\u001b[0m\u001b[1;33m\u001b[0m\u001b[1;33m\u001b[0m\u001b[0m\n",
      "\u001b[1;32m~\\AppData\\Local\\Continuum\\anaconda3\\lib\\site-packages\\nltk\\classify\\maxent.py\u001b[0m in \u001b[0;36mtrain_maxent_classifier_with_gis\u001b[1;34m(train_toks, trace, encoding, labels, **cutoffs)\u001b[0m\n\u001b[0;32m   1055\u001b[0m     \u001b[1;31m# Construct an encoding from the training data.\u001b[0m\u001b[1;33m\u001b[0m\u001b[1;33m\u001b[0m\u001b[1;33m\u001b[0m\u001b[0m\n\u001b[0;32m   1056\u001b[0m     \u001b[1;32mif\u001b[0m \u001b[0mencoding\u001b[0m \u001b[1;32mis\u001b[0m \u001b[1;32mNone\u001b[0m\u001b[1;33m:\u001b[0m\u001b[1;33m\u001b[0m\u001b[1;33m\u001b[0m\u001b[0m\n\u001b[1;32m-> 1057\u001b[1;33m         \u001b[0mencoding\u001b[0m \u001b[1;33m=\u001b[0m \u001b[0mGISEncoding\u001b[0m\u001b[1;33m.\u001b[0m\u001b[0mtrain\u001b[0m\u001b[1;33m(\u001b[0m\u001b[0mtrain_toks\u001b[0m\u001b[1;33m,\u001b[0m \u001b[0mlabels\u001b[0m\u001b[1;33m=\u001b[0m\u001b[0mlabels\u001b[0m\u001b[1;33m)\u001b[0m\u001b[1;33m\u001b[0m\u001b[1;33m\u001b[0m\u001b[0m\n\u001b[0m\u001b[0;32m   1058\u001b[0m \u001b[1;33m\u001b[0m\u001b[0m\n\u001b[0;32m   1059\u001b[0m     \u001b[1;32mif\u001b[0m \u001b[1;32mnot\u001b[0m \u001b[0mhasattr\u001b[0m\u001b[1;33m(\u001b[0m\u001b[0mencoding\u001b[0m\u001b[1;33m,\u001b[0m \u001b[1;34m'C'\u001b[0m\u001b[1;33m)\u001b[0m\u001b[1;33m:\u001b[0m\u001b[1;33m\u001b[0m\u001b[1;33m\u001b[0m\u001b[0m\n",
      "\u001b[1;32m~\\AppData\\Local\\Continuum\\anaconda3\\lib\\site-packages\\nltk\\classify\\maxent.py\u001b[0m in \u001b[0;36mtrain\u001b[1;34m(cls, train_toks, count_cutoff, labels, **options)\u001b[0m\n\u001b[0;32m    665\u001b[0m         \u001b[0mcount\u001b[0m \u001b[1;33m=\u001b[0m \u001b[0mdefaultdict\u001b[0m\u001b[1;33m(\u001b[0m\u001b[0mint\u001b[0m\u001b[1;33m)\u001b[0m  \u001b[1;31m# maps (fname, fval) -> count\u001b[0m\u001b[1;33m\u001b[0m\u001b[1;33m\u001b[0m\u001b[0m\n\u001b[0;32m    666\u001b[0m \u001b[1;33m\u001b[0m\u001b[0m\n\u001b[1;32m--> 667\u001b[1;33m         \u001b[1;32mfor\u001b[0m \u001b[1;33m(\u001b[0m\u001b[0mtok\u001b[0m\u001b[1;33m,\u001b[0m \u001b[0mlabel\u001b[0m\u001b[1;33m)\u001b[0m \u001b[1;32min\u001b[0m \u001b[0mtrain_toks\u001b[0m\u001b[1;33m:\u001b[0m\u001b[1;33m\u001b[0m\u001b[1;33m\u001b[0m\u001b[0m\n\u001b[0m\u001b[0;32m    668\u001b[0m             \u001b[1;32mif\u001b[0m \u001b[0mlabels\u001b[0m \u001b[1;32mand\u001b[0m \u001b[0mlabel\u001b[0m \u001b[1;32mnot\u001b[0m \u001b[1;32min\u001b[0m \u001b[0mlabels\u001b[0m\u001b[1;33m:\u001b[0m\u001b[1;33m\u001b[0m\u001b[1;33m\u001b[0m\u001b[0m\n\u001b[0;32m    669\u001b[0m                 \u001b[1;32mraise\u001b[0m \u001b[0mValueError\u001b[0m\u001b[1;33m(\u001b[0m\u001b[1;34m'Unexpected label %s'\u001b[0m \u001b[1;33m%\u001b[0m \u001b[0mlabel\u001b[0m\u001b[1;33m)\u001b[0m\u001b[1;33m\u001b[0m\u001b[1;33m\u001b[0m\u001b[0m\n",
      "\u001b[1;31mValueError\u001b[0m: not enough values to unpack (expected 2, got 1)"
     ]
    }
   ],
   "source": [
    "numIterations = 100\n",
    "\n",
    "algo =  nltk.classify.MaxentClassifier.ALGORITHMS[0]\n",
    "classifier = nltk.MaxentClassifier.train(x_train,algo,max_iter=numIterations)\n",
    "classifier.show_most_informative_features(10)"
   ]
  },
  {
   "cell_type": "code",
   "execution_count": null,
   "metadata": {},
   "outputs": [],
   "source": []
  }
 ],
 "metadata": {
  "kernelspec": {
   "display_name": "Python 3",
   "language": "python",
   "name": "python3"
  },
  "language_info": {
   "codemirror_mode": {
    "name": "ipython",
    "version": 3
   },
   "file_extension": ".py",
   "mimetype": "text/x-python",
   "name": "python",
   "nbconvert_exporter": "python",
   "pygments_lexer": "ipython3",
   "version": "3.7.1"
  }
 },
 "nbformat": 4,
 "nbformat_minor": 2
}
